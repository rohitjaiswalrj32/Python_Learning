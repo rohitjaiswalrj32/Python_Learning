{
  "nbformat": 4,
  "nbformat_minor": 0,
  "metadata": {
    "colab": {
      "provenance": [],
      "authorship_tag": "ABX9TyOs/4mD8EOg8FJDfkzJ8vKv",
      "include_colab_link": true
    },
    "kernelspec": {
      "name": "python3",
      "display_name": "Python 3"
    },
    "language_info": {
      "name": "python"
    }
  },
  "cells": [
    {
      "cell_type": "markdown",
      "metadata": {
        "id": "view-in-github",
        "colab_type": "text"
      },
      "source": [
        "<a href=\"https://colab.research.google.com/github/rohitjaiswalrj32/Python-Practice/blob/main/basic_input_output.ipynb\" target=\"_parent\"><img src=\"https://colab.research.google.com/assets/colab-badge.svg\" alt=\"Open In Colab\"/></a>"
      ]
    },
    {
      "cell_type": "code",
      "execution_count": 1,
      "metadata": {
        "id": "neeqrTbuuqNv"
      },
      "outputs": [],
      "source": [
        "#Practice Exercises"
      ]
    },
    {
      "cell_type": "code",
      "source": [
        "# Task 1: Take a user's name and age as input and print a greeting.\n",
        "\n",
        "name = input(\"Enter your Name: \")\n",
        "age = int(input(\"Enter your Age: \"))\n",
        "\n",
        "print(\"Hello,\", name + \"! You are\", age, \"Years Old.\")\n"
      ],
      "metadata": {
        "colab": {
          "base_uri": "https://localhost:8080/"
        },
        "id": "v7os17Q0uy6G",
        "outputId": "8f2b4cbe-6863-4142-faf2-5908d9de43e0"
      },
      "execution_count": 4,
      "outputs": [
        {
          "output_type": "stream",
          "name": "stdout",
          "text": [
            "Enter your Name: Rohit Jaiswal\n",
            "Enter your Age: 25\n",
            "Hello, Rohit Jaiswal! You are 25 Years Old.\n"
          ]
        }
      ]
    },
    {
      "cell_type": "code",
      "source": [
        "# Task 2: Ask for two numbers and print their sum\n",
        "\n",
        "num1 = int(input(\"Enter the First Number: \"))\n",
        "num2 = int(input(\"Enter the Second Number: \"))\n",
        "\n",
        "Sum = num1 + num2\n",
        "\n",
        "print(\"The Sum is:\", Sum)"
      ],
      "metadata": {
        "colab": {
          "base_uri": "https://localhost:8080/"
        },
        "id": "iSNKrFXYvdBQ",
        "outputId": "3d274f19-e695-41da-ab2f-8a0075230fd4"
      },
      "execution_count": 7,
      "outputs": [
        {
          "output_type": "stream",
          "name": "stdout",
          "text": [
            "Enter the First Number: 6\n",
            "Enter the Second Number: 8\n",
            "The Sum is: 14\n"
          ]
        }
      ]
    },
    {
      "cell_type": "code",
      "source": [
        "# Task 3: Print data types of different variables\n",
        "\n",
        "print(\"Type of Name:\", type(name))\n",
        "print(\"Type of Age:\", type(age))\n",
        "print(\"Type of First Number:\", type(num1))\n",
        "print(\"Type of Sum:\", type(Sum))"
      ],
      "metadata": {
        "colab": {
          "base_uri": "https://localhost:8080/"
        },
        "id": "pjXL_3aKwlAq",
        "outputId": "52599cfd-9e5e-4931-fece-a1a24d324bd6"
      },
      "execution_count": 9,
      "outputs": [
        {
          "output_type": "stream",
          "name": "stdout",
          "text": [
            "Type of Name: <class 'str'>\n",
            "Type of Age: <class 'int'>\n",
            "Type of First Number: <class 'int'>\n",
            "Type of Sum: <class 'int'>\n"
          ]
        }
      ]
    },
    {
      "cell_type": "code",
      "source": [],
      "metadata": {
        "id": "IIlfLQ8FxF2-"
      },
      "execution_count": null,
      "outputs": []
    }
  ]
}
